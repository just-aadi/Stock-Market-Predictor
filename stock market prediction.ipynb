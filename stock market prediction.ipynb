{
  "cells": [
    {
      "cell_type": "code",
      "execution_count": null,
      "id": "e7016160",
      "metadata": {
        "execution": {
          "iopub.execute_input": "2024-04-03T17:38:15.757990Z",
          "iopub.status.busy": "2024-04-03T17:38:15.757371Z",
          "iopub.status.idle": "2024-04-03T17:38:28.973393Z",
          "shell.execute_reply": "2024-04-03T17:38:28.972397Z"
        },
        "papermill": {
          "duration": 13.23435,
          "end_time": "2024-04-03T17:38:28.976473",
          "exception": false,
          "start_time": "2024-04-03T17:38:15.742123",
          "status": "completed"
        },
        "tags": [],
        "id": "e7016160",
        "outputId": "28849f90-df8a-46bc-d0b6-3dc040428dcf"
      },
      "outputs": [
        {
          "data": {
            "text/html": [
              "<style type='text/css'>\n",
              ".datatable table.frame { margin-bottom: 0; }\n",
              ".datatable table.frame thead { border-bottom: none; }\n",
              ".datatable table.frame tr.coltypes td {  color: #FFFFFF;  line-height: 6px;  padding: 0 0.5em;}\n",
              ".datatable .bool    { background: #DDDD99; }\n",
              ".datatable .object  { background: #565656; }\n",
              ".datatable .int     { background: #5D9E5D; }\n",
              ".datatable .float   { background: #4040CC; }\n",
              ".datatable .str     { background: #CC4040; }\n",
              ".datatable .time    { background: #40CC40; }\n",
              ".datatable .row_index {  background: var(--jp-border-color3);  border-right: 1px solid var(--jp-border-color0);  color: var(--jp-ui-font-color3);  font-size: 9px;}\n",
              ".datatable .frame tbody td { text-align: left; }\n",
              ".datatable .frame tr.coltypes .row_index {  background: var(--jp-border-color0);}\n",
              ".datatable th:nth-child(2) { padding-left: 12px; }\n",
              ".datatable .hellipsis {  color: var(--jp-cell-editor-border-color);}\n",
              ".datatable .vellipsis {  background: var(--jp-layout-color0);  color: var(--jp-cell-editor-border-color);}\n",
              ".datatable .na {  color: var(--jp-cell-editor-border-color);  font-size: 80%;}\n",
              ".datatable .sp {  opacity: 0.25;}\n",
              ".datatable .footer { font-size: 9px; }\n",
              ".datatable .frame_dimensions {  background: var(--jp-border-color3);  border-top: 1px solid var(--jp-border-color0);  color: var(--jp-ui-font-color3);  display: inline-block;  opacity: 0.6;  padding: 1px 10px 1px 5px;}\n",
              "</style>\n"
            ],
            "text/plain": [
              "<IPython.core.display.HTML object>"
            ]
          },
          "metadata": {},
          "output_type": "display_data"
        }
      ],
      "source": [
        "import pandas as pd\n",
        "import numpy as np\n",
        "import datetime as dt\n",
        "\n",
        "import lightgbm as lgb\n",
        "import xgboost as xgb\n",
        "from xgboost import XGBRegressor, plot_importance\n",
        "\n",
        "#from pmdarima import auto_arima\n",
        "\n",
        "from tensorflow.keras.models import Sequential\n",
        "from tensorflow.keras.layers import Dense, LSTM, GRU, SimpleRNN, RNN, Input, Bidirectional\n",
        "from tensorflow.keras.callbacks import ModelCheckpoint, EarlyStopping, ReduceLROnPlateau, LearningRateScheduler\n",
        "\n",
        "from sklearn.metrics import mean_absolute_error, mean_squared_error\n",
        "from sklearn.preprocessing import MinMaxScaler\n",
        "\n",
        "import seaborn as sns\n",
        "import matplotlib.pyplot as plt\n",
        "%matplotlib inline"
      ]
    },
    {
      "cell_type": "code",
      "execution_count": null,
      "id": "732e7ca0",
      "metadata": {
        "execution": {
          "iopub.execute_input": "2024-04-03T17:38:29.002603Z",
          "iopub.status.busy": "2024-04-03T17:38:29.001237Z",
          "iopub.status.idle": "2024-04-03T17:38:29.089891Z",
          "shell.execute_reply": "2024-04-03T17:38:29.088926Z"
        },
        "papermill": {
          "duration": 0.104136,
          "end_time": "2024-04-03T17:38:29.092517",
          "exception": false,
          "start_time": "2024-04-03T17:38:28.988381",
          "status": "completed"
        },
        "tags": [],
        "id": "732e7ca0",
        "outputId": "a4b304ea-8759-4165-c815-80ce8493dc20"
      },
      "outputs": [
        {
          "data": {
            "text/html": [
              "<div>\n",
              "<style scoped>\n",
              "    .dataframe tbody tr th:only-of-type {\n",
              "        vertical-align: middle;\n",
              "    }\n",
              "\n",
              "    .dataframe tbody tr th {\n",
              "        vertical-align: top;\n",
              "    }\n",
              "\n",
              "    .dataframe thead th {\n",
              "        text-align: right;\n",
              "    }\n",
              "</style>\n",
              "<table border=\"1\" class=\"dataframe\">\n",
              "  <thead>\n",
              "    <tr style=\"text-align: right;\">\n",
              "      <th></th>\n",
              "      <th>Date</th>\n",
              "      <th>Symbol</th>\n",
              "      <th>Series</th>\n",
              "      <th>Prev Close</th>\n",
              "      <th>Open</th>\n",
              "      <th>High</th>\n",
              "      <th>Low</th>\n",
              "      <th>Last</th>\n",
              "      <th>Close</th>\n",
              "      <th>VWAP</th>\n",
              "      <th>Volume</th>\n",
              "      <th>Turnover</th>\n",
              "      <th>Trades</th>\n",
              "      <th>Deliverable Volume</th>\n",
              "      <th>%Deliverble</th>\n",
              "    </tr>\n",
              "    <tr>\n",
              "      <th>Date</th>\n",
              "      <th></th>\n",
              "      <th></th>\n",
              "      <th></th>\n",
              "      <th></th>\n",
              "      <th></th>\n",
              "      <th></th>\n",
              "      <th></th>\n",
              "      <th></th>\n",
              "      <th></th>\n",
              "      <th></th>\n",
              "      <th></th>\n",
              "      <th></th>\n",
              "      <th></th>\n",
              "      <th></th>\n",
              "      <th></th>\n",
              "    </tr>\n",
              "  </thead>\n",
              "  <tbody>\n",
              "    <tr>\n",
              "      <th>2000-01-03</th>\n",
              "      <td>2000-01-03</td>\n",
              "      <td>INFOSYSTCH</td>\n",
              "      <td>EQ</td>\n",
              "      <td>14467.75</td>\n",
              "      <td>15625.00</td>\n",
              "      <td>15625.20</td>\n",
              "      <td>15625.00</td>\n",
              "      <td>15625.20</td>\n",
              "      <td>15625.20</td>\n",
              "      <td>15625.18</td>\n",
              "      <td>5137</td>\n",
              "      <td>8.026657e+12</td>\n",
              "      <td>NaN</td>\n",
              "      <td>NaN</td>\n",
              "      <td>NaN</td>\n",
              "    </tr>\n",
              "    <tr>\n",
              "      <th>2000-01-04</th>\n",
              "      <td>2000-01-04</td>\n",
              "      <td>INFOSYSTCH</td>\n",
              "      <td>EQ</td>\n",
              "      <td>15625.20</td>\n",
              "      <td>16800.00</td>\n",
              "      <td>16875.25</td>\n",
              "      <td>16253.00</td>\n",
              "      <td>16875.25</td>\n",
              "      <td>16855.90</td>\n",
              "      <td>16646.38</td>\n",
              "      <td>56186</td>\n",
              "      <td>9.352937e+13</td>\n",
              "      <td>NaN</td>\n",
              "      <td>NaN</td>\n",
              "      <td>NaN</td>\n",
              "    </tr>\n",
              "    <tr>\n",
              "      <th>2000-01-05</th>\n",
              "      <td>2000-01-05</td>\n",
              "      <td>INFOSYSTCH</td>\n",
              "      <td>EQ</td>\n",
              "      <td>16855.90</td>\n",
              "      <td>15701.00</td>\n",
              "      <td>16250.00</td>\n",
              "      <td>15507.45</td>\n",
              "      <td>15507.45</td>\n",
              "      <td>15507.45</td>\n",
              "      <td>15786.38</td>\n",
              "      <td>164605</td>\n",
              "      <td>2.598516e+14</td>\n",
              "      <td>NaN</td>\n",
              "      <td>NaN</td>\n",
              "      <td>NaN</td>\n",
              "    </tr>\n",
              "    <tr>\n",
              "      <th>2000-01-06</th>\n",
              "      <td>2000-01-06</td>\n",
              "      <td>INFOSYSTCH</td>\n",
              "      <td>EQ</td>\n",
              "      <td>15507.45</td>\n",
              "      <td>15256.65</td>\n",
              "      <td>15300.00</td>\n",
              "      <td>14266.85</td>\n",
              "      <td>14266.85</td>\n",
              "      <td>14266.85</td>\n",
              "      <td>14462.82</td>\n",
              "      <td>81997</td>\n",
              "      <td>1.185908e+14</td>\n",
              "      <td>NaN</td>\n",
              "      <td>NaN</td>\n",
              "      <td>NaN</td>\n",
              "    </tr>\n",
              "    <tr>\n",
              "      <th>2000-01-07</th>\n",
              "      <td>2000-01-07</td>\n",
              "      <td>INFOSYSTCH</td>\n",
              "      <td>EQ</td>\n",
              "      <td>14266.85</td>\n",
              "      <td>13125.50</td>\n",
              "      <td>13125.50</td>\n",
              "      <td>13125.50</td>\n",
              "      <td>13125.50</td>\n",
              "      <td>13125.50</td>\n",
              "      <td>13125.50</td>\n",
              "      <td>7589</td>\n",
              "      <td>9.960942e+12</td>\n",
              "      <td>NaN</td>\n",
              "      <td>NaN</td>\n",
              "      <td>NaN</td>\n",
              "    </tr>\n",
              "  </tbody>\n",
              "</table>\n",
              "</div>"
            ],
            "text/plain": [
              "                  Date      Symbol Series  Prev Close      Open      High  \\\n",
              "Date                                                                        \n",
              "2000-01-03  2000-01-03  INFOSYSTCH     EQ    14467.75  15625.00  15625.20   \n",
              "2000-01-04  2000-01-04  INFOSYSTCH     EQ    15625.20  16800.00  16875.25   \n",
              "2000-01-05  2000-01-05  INFOSYSTCH     EQ    16855.90  15701.00  16250.00   \n",
              "2000-01-06  2000-01-06  INFOSYSTCH     EQ    15507.45  15256.65  15300.00   \n",
              "2000-01-07  2000-01-07  INFOSYSTCH     EQ    14266.85  13125.50  13125.50   \n",
              "\n",
              "                 Low      Last     Close      VWAP  Volume      Turnover  \\\n",
              "Date                                                                       \n",
              "2000-01-03  15625.00  15625.20  15625.20  15625.18    5137  8.026657e+12   \n",
              "2000-01-04  16253.00  16875.25  16855.90  16646.38   56186  9.352937e+13   \n",
              "2000-01-05  15507.45  15507.45  15507.45  15786.38  164605  2.598516e+14   \n",
              "2000-01-06  14266.85  14266.85  14266.85  14462.82   81997  1.185908e+14   \n",
              "2000-01-07  13125.50  13125.50  13125.50  13125.50    7589  9.960942e+12   \n",
              "\n",
              "            Trades  Deliverable Volume  %Deliverble  \n",
              "Date                                                 \n",
              "2000-01-03     NaN                 NaN          NaN  \n",
              "2000-01-04     NaN                 NaN          NaN  \n",
              "2000-01-05     NaN                 NaN          NaN  \n",
              "2000-01-06     NaN                 NaN          NaN  \n",
              "2000-01-07     NaN                 NaN          NaN  "
            ]
          },
          "execution_count": 2,
          "metadata": {},
          "output_type": "execute_result"
        }
      ],
      "source": [
        "df = pd.read_csv('/kaggle/input/nifty50-stock-market-data/INFY.csv')\n",
        "df.set_index('Date', drop=False, inplace=True)\n",
        "df.head()"
      ]
    },
    {
      "cell_type": "code",
      "execution_count": null,
      "id": "69026eb5",
      "metadata": {
        "execution": {
          "iopub.execute_input": "2024-04-03T17:38:29.119950Z",
          "iopub.status.busy": "2024-04-03T17:38:29.119272Z",
          "iopub.status.idle": "2024-04-03T17:38:29.145788Z",
          "shell.execute_reply": "2024-04-03T17:38:29.144835Z"
        },
        "papermill": {
          "duration": 0.042635,
          "end_time": "2024-04-03T17:38:29.148198",
          "exception": false,
          "start_time": "2024-04-03T17:38:29.105563",
          "status": "completed"
        },
        "tags": [],
        "id": "69026eb5",
        "outputId": "4be1fd56-c704-40fc-de49-9f64242736b8"
      },
      "outputs": [
        {
          "data": {
            "text/html": [
              "<div>\n",
              "<style scoped>\n",
              "    .dataframe tbody tr th:only-of-type {\n",
              "        vertical-align: middle;\n",
              "    }\n",
              "\n",
              "    .dataframe tbody tr th {\n",
              "        vertical-align: top;\n",
              "    }\n",
              "\n",
              "    .dataframe thead th {\n",
              "        text-align: right;\n",
              "    }\n",
              "</style>\n",
              "<table border=\"1\" class=\"dataframe\">\n",
              "  <thead>\n",
              "    <tr style=\"text-align: right;\">\n",
              "      <th></th>\n",
              "      <th>Date</th>\n",
              "      <th>Symbol</th>\n",
              "      <th>Series</th>\n",
              "      <th>Prev Close</th>\n",
              "      <th>Open</th>\n",
              "      <th>High</th>\n",
              "      <th>Low</th>\n",
              "      <th>Last</th>\n",
              "      <th>Close</th>\n",
              "      <th>VWAP</th>\n",
              "      <th>Volume</th>\n",
              "      <th>Turnover</th>\n",
              "      <th>Trades</th>\n",
              "      <th>Deliverable Volume</th>\n",
              "      <th>%Deliverble</th>\n",
              "    </tr>\n",
              "    <tr>\n",
              "      <th>Date</th>\n",
              "      <th></th>\n",
              "      <th></th>\n",
              "      <th></th>\n",
              "      <th></th>\n",
              "      <th></th>\n",
              "      <th></th>\n",
              "      <th></th>\n",
              "      <th></th>\n",
              "      <th></th>\n",
              "      <th></th>\n",
              "      <th></th>\n",
              "      <th></th>\n",
              "      <th></th>\n",
              "      <th></th>\n",
              "      <th></th>\n",
              "    </tr>\n",
              "  </thead>\n",
              "  <tbody>\n",
              "    <tr>\n",
              "      <th>2021-04-26</th>\n",
              "      <td>2021-04-26</td>\n",
              "      <td>INFY</td>\n",
              "      <td>EQ</td>\n",
              "      <td>1333.80</td>\n",
              "      <td>1332.25</td>\n",
              "      <td>1351.3</td>\n",
              "      <td>1321.00</td>\n",
              "      <td>1345.0</td>\n",
              "      <td>1343.55</td>\n",
              "      <td>1343.19</td>\n",
              "      <td>7088606</td>\n",
              "      <td>9.521361e+14</td>\n",
              "      <td>130375.0</td>\n",
              "      <td>4218129.0</td>\n",
              "      <td>0.5951</td>\n",
              "    </tr>\n",
              "    <tr>\n",
              "      <th>2021-04-27</th>\n",
              "      <td>2021-04-27</td>\n",
              "      <td>INFY</td>\n",
              "      <td>EQ</td>\n",
              "      <td>1343.55</td>\n",
              "      <td>1346.00</td>\n",
              "      <td>1353.0</td>\n",
              "      <td>1340.15</td>\n",
              "      <td>1347.5</td>\n",
              "      <td>1348.50</td>\n",
              "      <td>1346.89</td>\n",
              "      <td>3636115</td>\n",
              "      <td>4.897445e+14</td>\n",
              "      <td>145974.0</td>\n",
              "      <td>1871084.0</td>\n",
              "      <td>0.5146</td>\n",
              "    </tr>\n",
              "    <tr>\n",
              "      <th>2021-04-28</th>\n",
              "      <td>2021-04-28</td>\n",
              "      <td>INFY</td>\n",
              "      <td>EQ</td>\n",
              "      <td>1348.50</td>\n",
              "      <td>1358.00</td>\n",
              "      <td>1359.5</td>\n",
              "      <td>1344.60</td>\n",
              "      <td>1355.8</td>\n",
              "      <td>1356.00</td>\n",
              "      <td>1353.45</td>\n",
              "      <td>4879234</td>\n",
              "      <td>6.603778e+14</td>\n",
              "      <td>137376.0</td>\n",
              "      <td>2857134.0</td>\n",
              "      <td>0.5856</td>\n",
              "    </tr>\n",
              "    <tr>\n",
              "      <th>2021-04-29</th>\n",
              "      <td>2021-04-29</td>\n",
              "      <td>INFY</td>\n",
              "      <td>EQ</td>\n",
              "      <td>1356.00</td>\n",
              "      <td>1368.00</td>\n",
              "      <td>1369.0</td>\n",
              "      <td>1351.40</td>\n",
              "      <td>1356.0</td>\n",
              "      <td>1356.35</td>\n",
              "      <td>1360.05</td>\n",
              "      <td>5412357</td>\n",
              "      <td>7.361090e+14</td>\n",
              "      <td>119277.0</td>\n",
              "      <td>3130945.0</td>\n",
              "      <td>0.5785</td>\n",
              "    </tr>\n",
              "    <tr>\n",
              "      <th>2021-04-30</th>\n",
              "      <td>2021-04-30</td>\n",
              "      <td>INFY</td>\n",
              "      <td>EQ</td>\n",
              "      <td>1356.35</td>\n",
              "      <td>1346.30</td>\n",
              "      <td>1373.9</td>\n",
              "      <td>1345.90</td>\n",
              "      <td>1348.6</td>\n",
              "      <td>1354.35</td>\n",
              "      <td>1361.16</td>\n",
              "      <td>8354677</td>\n",
              "      <td>1.137203e+15</td>\n",
              "      <td>131718.0</td>\n",
              "      <td>5408113.0</td>\n",
              "      <td>0.6473</td>\n",
              "    </tr>\n",
              "  </tbody>\n",
              "</table>\n",
              "</div>"
            ],
            "text/plain": [
              "                  Date Symbol Series  Prev Close     Open    High      Low  \\\n",
              "Date                                                                         \n",
              "2021-04-26  2021-04-26   INFY     EQ     1333.80  1332.25  1351.3  1321.00   \n",
              "2021-04-27  2021-04-27   INFY     EQ     1343.55  1346.00  1353.0  1340.15   \n",
              "2021-04-28  2021-04-28   INFY     EQ     1348.50  1358.00  1359.5  1344.60   \n",
              "2021-04-29  2021-04-29   INFY     EQ     1356.00  1368.00  1369.0  1351.40   \n",
              "2021-04-30  2021-04-30   INFY     EQ     1356.35  1346.30  1373.9  1345.90   \n",
              "\n",
              "              Last    Close     VWAP   Volume      Turnover    Trades  \\\n",
              "Date                                                                    \n",
              "2021-04-26  1345.0  1343.55  1343.19  7088606  9.521361e+14  130375.0   \n",
              "2021-04-27  1347.5  1348.50  1346.89  3636115  4.897445e+14  145974.0   \n",
              "2021-04-28  1355.8  1356.00  1353.45  4879234  6.603778e+14  137376.0   \n",
              "2021-04-29  1356.0  1356.35  1360.05  5412357  7.361090e+14  119277.0   \n",
              "2021-04-30  1348.6  1354.35  1361.16  8354677  1.137203e+15  131718.0   \n",
              "\n",
              "            Deliverable Volume  %Deliverble  \n",
              "Date                                         \n",
              "2021-04-26           4218129.0       0.5951  \n",
              "2021-04-27           1871084.0       0.5146  \n",
              "2021-04-28           2857134.0       0.5856  \n",
              "2021-04-29           3130945.0       0.5785  \n",
              "2021-04-30           5408113.0       0.6473  "
            ]
          },
          "execution_count": 3,
          "metadata": {},
          "output_type": "execute_result"
        }
      ],
      "source": [
        "df.tail()"
      ]
    },
    {
      "cell_type": "code",
      "execution_count": null,
      "id": "4e1a0fa4",
      "metadata": {
        "execution": {
          "iopub.execute_input": "2024-04-03T17:38:29.175429Z",
          "iopub.status.busy": "2024-04-03T17:38:29.174742Z",
          "iopub.status.idle": "2024-04-03T17:38:29.188374Z",
          "shell.execute_reply": "2024-04-03T17:38:29.186686Z"
        },
        "papermill": {
          "duration": 0.030779,
          "end_time": "2024-04-03T17:38:29.191664",
          "exception": false,
          "start_time": "2024-04-03T17:38:29.160885",
          "status": "completed"
        },
        "tags": [],
        "id": "4e1a0fa4",
        "outputId": "90c02f95-7ff1-4276-8996-6e37e4aaa522"
      },
      "outputs": [
        {
          "data": {
            "text/plain": [
              "Date                     0\n",
              "Symbol                   0\n",
              "Series                   0\n",
              "Prev Close               0\n",
              "Open                     0\n",
              "High                     0\n",
              "Low                      0\n",
              "Last                     0\n",
              "Close                    0\n",
              "VWAP                     0\n",
              "Volume                   0\n",
              "Turnover                 0\n",
              "Trades                2850\n",
              "Deliverable Volume     509\n",
              "%Deliverble            509\n",
              "dtype: int64"
            ]
          },
          "execution_count": 4,
          "metadata": {},
          "output_type": "execute_result"
        }
      ],
      "source": [
        "df.isna().sum()"
      ]
    },
    {
      "cell_type": "code",
      "execution_count": null,
      "id": "e1c6fc51",
      "metadata": {
        "execution": {
          "iopub.execute_input": "2024-04-03T17:38:29.219505Z",
          "iopub.status.busy": "2024-04-03T17:38:29.218713Z",
          "iopub.status.idle": "2024-04-03T17:38:29.291884Z",
          "shell.execute_reply": "2024-04-03T17:38:29.290495Z"
        },
        "papermill": {
          "duration": 0.090588,
          "end_time": "2024-04-03T17:38:29.294928",
          "exception": false,
          "start_time": "2024-04-03T17:38:29.204340",
          "status": "completed"
        },
        "tags": [],
        "id": "e1c6fc51",
        "outputId": "32419484-5dbc-468e-ee70-1bfdd5f745cb"
      },
      "outputs": [
        {
          "data": {
            "text/html": [
              "<div>\n",
              "<style scoped>\n",
              "    .dataframe tbody tr th:only-of-type {\n",
              "        vertical-align: middle;\n",
              "    }\n",
              "\n",
              "    .dataframe tbody tr th {\n",
              "        vertical-align: top;\n",
              "    }\n",
              "\n",
              "    .dataframe thead th {\n",
              "        text-align: right;\n",
              "    }\n",
              "</style>\n",
              "<table border=\"1\" class=\"dataframe\">\n",
              "  <thead>\n",
              "    <tr style=\"text-align: right;\">\n",
              "      <th></th>\n",
              "      <th>count</th>\n",
              "      <th>mean</th>\n",
              "      <th>std</th>\n",
              "      <th>min</th>\n",
              "      <th>25%</th>\n",
              "      <th>50%</th>\n",
              "      <th>75%</th>\n",
              "      <th>max</th>\n",
              "    </tr>\n",
              "  </thead>\n",
              "  <tbody>\n",
              "    <tr>\n",
              "      <th>Prev Close</th>\n",
              "      <td>5306.0</td>\n",
              "      <td>2.584357e+03</td>\n",
              "      <td>1.796807e+03</td>\n",
              "      <td>5.264500e+02</td>\n",
              "      <td>1.216062e+03</td>\n",
              "      <td>2.265675e+03</td>\n",
              "      <td>3.170562e+03</td>\n",
              "      <td>1.685590e+04</td>\n",
              "    </tr>\n",
              "    <tr>\n",
              "      <th>Open</th>\n",
              "      <td>5306.0</td>\n",
              "      <td>2.584665e+03</td>\n",
              "      <td>1.796732e+03</td>\n",
              "      <td>5.092500e+02</td>\n",
              "      <td>1.213675e+03</td>\n",
              "      <td>2.265000e+03</td>\n",
              "      <td>3.174762e+03</td>\n",
              "      <td>1.680000e+04</td>\n",
              "    </tr>\n",
              "    <tr>\n",
              "      <th>High</th>\n",
              "      <td>5306.0</td>\n",
              "      <td>2.626204e+03</td>\n",
              "      <td>1.842171e+03</td>\n",
              "      <td>5.580000e+02</td>\n",
              "      <td>1.233675e+03</td>\n",
              "      <td>2.294300e+03</td>\n",
              "      <td>3.210038e+03</td>\n",
              "      <td>1.687525e+04</td>\n",
              "    </tr>\n",
              "    <tr>\n",
              "      <th>Low</th>\n",
              "      <td>5306.0</td>\n",
              "      <td>2.539065e+03</td>\n",
              "      <td>1.743052e+03</td>\n",
              "      <td>5.092500e+02</td>\n",
              "      <td>1.197925e+03</td>\n",
              "      <td>2.232475e+03</td>\n",
              "      <td>3.124575e+03</td>\n",
              "      <td>1.625300e+04</td>\n",
              "    </tr>\n",
              "    <tr>\n",
              "      <th>Last</th>\n",
              "      <td>5306.0</td>\n",
              "      <td>2.581678e+03</td>\n",
              "      <td>1.789259e+03</td>\n",
              "      <td>5.291500e+02</td>\n",
              "      <td>1.215750e+03</td>\n",
              "      <td>2.263275e+03</td>\n",
              "      <td>3.170750e+03</td>\n",
              "      <td>1.687525e+04</td>\n",
              "    </tr>\n",
              "    <tr>\n",
              "      <th>Close</th>\n",
              "      <td>5306.0</td>\n",
              "      <td>2.581885e+03</td>\n",
              "      <td>1.789463e+03</td>\n",
              "      <td>5.264500e+02</td>\n",
              "      <td>1.216062e+03</td>\n",
              "      <td>2.265575e+03</td>\n",
              "      <td>3.169350e+03</td>\n",
              "      <td>1.685590e+04</td>\n",
              "    </tr>\n",
              "    <tr>\n",
              "      <th>VWAP</th>\n",
              "      <td>5306.0</td>\n",
              "      <td>2.582750e+03</td>\n",
              "      <td>1.792981e+03</td>\n",
              "      <td>5.313300e+02</td>\n",
              "      <td>1.214648e+03</td>\n",
              "      <td>2.262210e+03</td>\n",
              "      <td>3.168457e+03</td>\n",
              "      <td>1.664638e+04</td>\n",
              "    </tr>\n",
              "    <tr>\n",
              "      <th>Volume</th>\n",
              "      <td>5306.0</td>\n",
              "      <td>2.622813e+06</td>\n",
              "      <td>4.202984e+06</td>\n",
              "      <td>3.291000e+03</td>\n",
              "      <td>7.166842e+05</td>\n",
              "      <td>1.210798e+06</td>\n",
              "      <td>2.784006e+06</td>\n",
              "      <td>9.043339e+07</td>\n",
              "    </tr>\n",
              "    <tr>\n",
              "      <th>Turnover</th>\n",
              "      <td>5306.0</td>\n",
              "      <td>3.855758e+14</td>\n",
              "      <td>3.808224e+14</td>\n",
              "      <td>2.933192e+12</td>\n",
              "      <td>2.065910e+14</td>\n",
              "      <td>2.911119e+14</td>\n",
              "      <td>4.335687e+14</td>\n",
              "      <td>8.323905e+15</td>\n",
              "    </tr>\n",
              "    <tr>\n",
              "      <th>Trades</th>\n",
              "      <td>2456.0</td>\n",
              "      <td>1.118490e+05</td>\n",
              "      <td>9.020307e+04</td>\n",
              "      <td>1.350000e+03</td>\n",
              "      <td>5.922600e+04</td>\n",
              "      <td>9.025650e+04</td>\n",
              "      <td>1.354770e+05</td>\n",
              "      <td>1.643015e+06</td>\n",
              "    </tr>\n",
              "    <tr>\n",
              "      <th>Deliverable Volume</th>\n",
              "      <td>4797.0</td>\n",
              "      <td>1.574596e+06</td>\n",
              "      <td>2.269940e+06</td>\n",
              "      <td>4.352000e+03</td>\n",
              "      <td>4.074360e+05</td>\n",
              "      <td>8.011600e+05</td>\n",
              "      <td>1.986846e+06</td>\n",
              "      <td>5.775916e+07</td>\n",
              "    </tr>\n",
              "    <tr>\n",
              "      <th>%Deliverble</th>\n",
              "      <td>4797.0</td>\n",
              "      <td>5.363663e-01</td>\n",
              "      <td>1.794960e-01</td>\n",
              "      <td>4.580000e-02</td>\n",
              "      <td>4.557000e-01</td>\n",
              "      <td>5.799000e-01</td>\n",
              "      <td>6.637000e-01</td>\n",
              "      <td>9.960000e-01</td>\n",
              "    </tr>\n",
              "  </tbody>\n",
              "</table>\n",
              "</div>"
            ],
            "text/plain": [
              "                     count          mean           std           min  \\\n",
              "Prev Close          5306.0  2.584357e+03  1.796807e+03  5.264500e+02   \n",
              "Open                5306.0  2.584665e+03  1.796732e+03  5.092500e+02   \n",
              "High                5306.0  2.626204e+03  1.842171e+03  5.580000e+02   \n",
              "Low                 5306.0  2.539065e+03  1.743052e+03  5.092500e+02   \n",
              "Last                5306.0  2.581678e+03  1.789259e+03  5.291500e+02   \n",
              "Close               5306.0  2.581885e+03  1.789463e+03  5.264500e+02   \n",
              "VWAP                5306.0  2.582750e+03  1.792981e+03  5.313300e+02   \n",
              "Volume              5306.0  2.622813e+06  4.202984e+06  3.291000e+03   \n",
              "Turnover            5306.0  3.855758e+14  3.808224e+14  2.933192e+12   \n",
              "Trades              2456.0  1.118490e+05  9.020307e+04  1.350000e+03   \n",
              "Deliverable Volume  4797.0  1.574596e+06  2.269940e+06  4.352000e+03   \n",
              "%Deliverble         4797.0  5.363663e-01  1.794960e-01  4.580000e-02   \n",
              "\n",
              "                             25%           50%           75%           max  \n",
              "Prev Close          1.216062e+03  2.265675e+03  3.170562e+03  1.685590e+04  \n",
              "Open                1.213675e+03  2.265000e+03  3.174762e+03  1.680000e+04  \n",
              "High                1.233675e+03  2.294300e+03  3.210038e+03  1.687525e+04  \n",
              "Low                 1.197925e+03  2.232475e+03  3.124575e+03  1.625300e+04  \n",
              "Last                1.215750e+03  2.263275e+03  3.170750e+03  1.687525e+04  \n",
              "Close               1.216062e+03  2.265575e+03  3.169350e+03  1.685590e+04  \n",
              "VWAP                1.214648e+03  2.262210e+03  3.168457e+03  1.664638e+04  \n",
              "Volume              7.166842e+05  1.210798e+06  2.784006e+06  9.043339e+07  \n",
              "Turnover            2.065910e+14  2.911119e+14  4.335687e+14  8.323905e+15  \n",
              "Trades              5.922600e+04  9.025650e+04  1.354770e+05  1.643015e+06  \n",
              "Deliverable Volume  4.074360e+05  8.011600e+05  1.986846e+06  5.775916e+07  \n",
              "%Deliverble         4.557000e-01  5.799000e-01  6.637000e-01  9.960000e-01  "
            ]
          },
          "execution_count": 5,
          "metadata": {},
          "output_type": "execute_result"
        }
      ],
      "source": [
        "df.describe().T"
      ]
    },
    {
      "cell_type": "code",
      "execution_count": null,
      "id": "bf5a43cc",
      "metadata": {
        "execution": {
          "iopub.execute_input": "2024-04-03T17:38:29.325337Z",
          "iopub.status.busy": "2024-04-03T17:38:29.324829Z",
          "iopub.status.idle": "2024-04-03T17:38:29.350706Z",
          "shell.execute_reply": "2024-04-03T17:38:29.349393Z"
        },
        "papermill": {
          "duration": 0.044862,
          "end_time": "2024-04-03T17:38:29.353972",
          "exception": false,
          "start_time": "2024-04-03T17:38:29.309110",
          "status": "completed"
        },
        "tags": [],
        "id": "bf5a43cc",
        "outputId": "b3fcee52-09a5-4a3a-ba83-5f24fef436aa"
      },
      "outputs": [
        {
          "name": "stdout",
          "output_type": "stream",
          "text": [
            "<class 'pandas.core.frame.DataFrame'>\n",
            "Index: 5306 entries, 2000-01-03 to 2021-04-30\n",
            "Data columns (total 13 columns):\n",
            " #   Column              Non-Null Count  Dtype  \n",
            "---  ------              --------------  -----  \n",
            " 0   Date                5306 non-null   object \n",
            " 1   Prev Close          5306 non-null   float64\n",
            " 2   Open                5306 non-null   float64\n",
            " 3   High                5306 non-null   float64\n",
            " 4   Low                 5306 non-null   float64\n",
            " 5   Last                5306 non-null   float64\n",
            " 6   Close               5306 non-null   float64\n",
            " 7   VWAP                5306 non-null   float64\n",
            " 8   Volume              5306 non-null   int64  \n",
            " 9   Turnover            5306 non-null   float64\n",
            " 10  Trades              2456 non-null   float64\n",
            " 11  Deliverable Volume  4797 non-null   float64\n",
            " 12  %Deliverble         4797 non-null   float64\n",
            "dtypes: float64(11), int64(1), object(1)\n",
            "memory usage: 580.3+ KB\n"
          ]
        }
      ],
      "source": [
        "df.drop(['Symbol','Series'],axis=1, inplace=True)\n",
        "df.info()"
      ]
    },
    {
      "cell_type": "code",
      "execution_count": null,
      "id": "fabb9cd8",
      "metadata": {
        "execution": {
          "iopub.execute_input": "2024-04-03T17:38:29.383549Z",
          "iopub.status.busy": "2024-04-03T17:38:29.382764Z",
          "iopub.status.idle": "2024-04-03T17:38:30.370656Z",
          "shell.execute_reply": "2024-04-03T17:38:30.369458Z"
        },
        "papermill": {
          "duration": 1.006301,
          "end_time": "2024-04-03T17:38:30.373874",
          "exception": false,
          "start_time": "2024-04-03T17:38:29.367573",
          "status": "completed"
        },
        "tags": [],
        "id": "fabb9cd8",
        "outputId": "6f66353e-2dbd-46ee-ed00-8822e22be9bd"
      },
      "outputs": [
        {
          "data": {
            "text/plain": [
              "<AxesSubplot:>"
            ]
          },
          "execution_count": 7,
          "metadata": {},
          "output_type": "execute_result"
        },
        {
          "data": {
            "image/png": "[encoded data removed]",
            "text/plain": [
              "<Figure size 720x720 with 2 Axes>"
            ]
          },
          "metadata": {
            "needs_background": "light"
          },
          "output_type": "display_data"
        }
      ],
      "source": [
        "# correlation\n",
        "\n",
        "plt.figure(figsize=(10,10))\n",
        "sns.heatmap(df.corr(), cmap='YlGnBu', annot=True)"
      ]
    },
    {
      "cell_type": "code",
      "execution_count": null,
      "id": "4162dd06",
      "metadata": {
        "execution": {
          "iopub.execute_input": "2024-04-03T17:38:30.404891Z",
          "iopub.status.busy": "2024-04-03T17:38:30.404407Z",
          "iopub.status.idle": "2024-04-03T17:38:30.429113Z",
          "shell.execute_reply": "2024-04-03T17:38:30.427795Z"
        },
        "papermill": {
          "duration": 0.043525,
          "end_time": "2024-04-03T17:38:30.431876",
          "exception": false,
          "start_time": "2024-04-03T17:38:30.388351",
          "status": "completed"
        },
        "tags": [],
        "id": "4162dd06",
        "outputId": "20fb75df-5719-407b-83c9-a4446e301233"
      },
      "outputs": [
        {
          "data": {
            "text/html": [
              "<div>\n",
              "<style scoped>\n",
              "    .dataframe tbody tr th:only-of-type {\n",
              "        vertical-align: middle;\n",
              "    }\n",
              "\n",
              "    .dataframe tbody tr th {\n",
              "        vertical-align: top;\n",
              "    }\n",
              "\n",
              "    .dataframe thead th {\n",
              "        text-align: right;\n",
              "    }\n",
              "</style>\n",
              "<table border=\"1\" class=\"dataframe\">\n",
              "  <thead>\n",
              "    <tr style=\"text-align: right;\">\n",
              "      <th></th>\n",
              "      <th>Date</th>\n",
              "      <th>Prev Close</th>\n",
              "      <th>Open</th>\n",
              "      <th>High</th>\n",
              "      <th>Low</th>\n",
              "      <th>Last</th>\n",
              "      <th>Close</th>\n",
              "      <th>VWAP</th>\n",
              "      <th>Volume</th>\n",
              "      <th>Turnover</th>\n",
              "      <th>Trades</th>\n",
              "      <th>Deliverable Volume</th>\n",
              "      <th>%Deliverble</th>\n",
              "    </tr>\n",
              "    <tr>\n",
              "      <th>Date</th>\n",
              "      <th></th>\n",
              "      <th></th>\n",
              "      <th></th>\n",
              "      <th></th>\n",
              "      <th></th>\n",
              "      <th></th>\n",
              "      <th></th>\n",
              "      <th></th>\n",
              "      <th></th>\n",
              "      <th></th>\n",
              "      <th></th>\n",
              "      <th></th>\n",
              "      <th></th>\n",
              "    </tr>\n",
              "  </thead>\n",
              "  <tbody>\n",
              "    <tr>\n",
              "      <th>2000-01-03</th>\n",
              "      <td>2000-01-03</td>\n",
              "      <td>14467.75</td>\n",
              "      <td>15625.00</td>\n",
              "      <td>15625.20</td>\n",
              "      <td>15625.00</td>\n",
              "      <td>15625.20</td>\n",
              "      <td>15625.20</td>\n",
              "      <td>15625.18</td>\n",
              "      <td>5137</td>\n",
              "      <td>8.026657e+12</td>\n",
              "      <td>NaN</td>\n",
              "      <td>NaN</td>\n",
              "      <td>NaN</td>\n",
              "    </tr>\n",
              "    <tr>\n",
              "      <th>2000-01-04</th>\n",
              "      <td>2000-01-04</td>\n",
              "      <td>15625.20</td>\n",
              "      <td>16800.00</td>\n",
              "      <td>16875.25</td>\n",
              "      <td>16253.00</td>\n",
              "      <td>16875.25</td>\n",
              "      <td>16855.90</td>\n",
              "      <td>16646.38</td>\n",
              "      <td>56186</td>\n",
              "      <td>9.352937e+13</td>\n",
              "      <td>NaN</td>\n",
              "      <td>NaN</td>\n",
              "      <td>NaN</td>\n",
              "    </tr>\n",
              "    <tr>\n",
              "      <th>2000-01-05</th>\n",
              "      <td>2000-01-05</td>\n",
              "      <td>16855.90</td>\n",
              "      <td>15701.00</td>\n",
              "      <td>16250.00</td>\n",
              "      <td>15507.45</td>\n",
              "      <td>15507.45</td>\n",
              "      <td>15507.45</td>\n",
              "      <td>15786.38</td>\n",
              "      <td>164605</td>\n",
              "      <td>2.598516e+14</td>\n",
              "      <td>NaN</td>\n",
              "      <td>NaN</td>\n",
              "      <td>NaN</td>\n",
              "    </tr>\n",
              "    <tr>\n",
              "      <th>2000-01-06</th>\n",
              "      <td>2000-01-06</td>\n",
              "      <td>15507.45</td>\n",
              "      <td>15256.65</td>\n",
              "      <td>15300.00</td>\n",
              "      <td>14266.85</td>\n",
              "      <td>14266.85</td>\n",
              "      <td>14266.85</td>\n",
              "      <td>14462.82</td>\n",
              "      <td>81997</td>\n",
              "      <td>1.185908e+14</td>\n",
              "      <td>NaN</td>\n",
              "      <td>NaN</td>\n",
              "      <td>NaN</td>\n",
              "    </tr>\n",
              "    <tr>\n",
              "      <th>2000-01-07</th>\n",
              "      <td>2000-01-07</td>\n",
              "      <td>14266.85</td>\n",
              "      <td>13125.50</td>\n",
              "      <td>13125.50</td>\n",
              "      <td>13125.50</td>\n",
              "      <td>13125.50</td>\n",
              "      <td>13125.50</td>\n",
              "      <td>13125.50</td>\n",
              "      <td>7589</td>\n",
              "      <td>9.960942e+12</td>\n",
              "      <td>NaN</td>\n",
              "      <td>NaN</td>\n",
              "      <td>NaN</td>\n",
              "    </tr>\n",
              "  </tbody>\n",
              "</table>\n",
              "</div>"
            ],
            "text/plain": [
              "                  Date  Prev Close      Open      High       Low      Last  \\\n",
              "Date                                                                         \n",
              "2000-01-03  2000-01-03    14467.75  15625.00  15625.20  15625.00  15625.20   \n",
              "2000-01-04  2000-01-04    15625.20  16800.00  16875.25  16253.00  16875.25   \n",
              "2000-01-05  2000-01-05    16855.90  15701.00  16250.00  15507.45  15507.45   \n",
              "2000-01-06  2000-01-06    15507.45  15256.65  15300.00  14266.85  14266.85   \n",
              "2000-01-07  2000-01-07    14266.85  13125.50  13125.50  13125.50  13125.50   \n",
              "\n",
              "               Close      VWAP  Volume      Turnover  Trades  \\\n",
              "Date                                                           \n",
              "2000-01-03  15625.20  15625.18    5137  8.026657e+12     NaN   \n",
              "2000-01-04  16855.90  16646.38   56186  9.352937e+13     NaN   \n",
              "2000-01-05  15507.45  15786.38  164605  2.598516e+14     NaN   \n",
              "2000-01-06  14266.85  14462.82   81997  1.185908e+14     NaN   \n",
              "2000-01-07  13125.50  13125.50    7589  9.960942e+12     NaN   \n",
              "\n",
              "            Deliverable Volume  %Deliverble  \n",
              "Date                                         \n",
              "2000-01-03                 NaN          NaN  \n",
              "2000-01-04                 NaN          NaN  \n",
              "2000-01-05                 NaN          NaN  \n",
              "2000-01-06                 NaN          NaN  \n",
              "2000-01-07                 NaN          NaN  "
            ]
          },
          "execution_count": 8,
          "metadata": {},
          "output_type": "execute_result"
        }
      ],
      "source": [
        "df.head()"
      ]
    },
    {
      "cell_type": "markdown",
      "id": "135b6609",
      "metadata": {
        "papermill": {
          "duration": 0.015629,
          "end_time": "2024-04-03T17:38:30.462238",
          "exception": false,
          "start_time": "2024-04-03T17:38:30.446609",
          "status": "completed"
        },
        "tags": [],
        "id": "135b6609"
      },
      "source": [
        "'Date','Open','High','Low','Volume','VWAP' are highly correlated"
      ]
    },
    {
      "cell_type": "code",
      "execution_count": null,
      "id": "0e830640",
      "metadata": {
        "execution": {
          "iopub.execute_input": "2024-04-03T17:38:30.494758Z",
          "iopub.status.busy": "2024-04-03T17:38:30.493976Z",
          "iopub.status.idle": "2024-04-03T17:38:30.783689Z",
          "shell.execute_reply": "2024-04-03T17:38:30.782100Z"
        },
        "papermill": {
          "duration": 0.310249,
          "end_time": "2024-04-03T17:38:30.787435",
          "exception": false,
          "start_time": "2024-04-03T17:38:30.477186",
          "status": "completed"
        },
        "tags": [],
        "id": "0e830640",
        "outputId": "413d5cdf-4cdf-4a8a-9da2-86fd747de9f3"
      },
      "outputs": [
        {
          "data": {
            "image/png": "[encoded data removed]",
            "text/plain": [
              "<Figure size 1296x648 with 1 Axes>"
            ]
          },
          "metadata": {
            "needs_background": "light"
          },
          "output_type": "display_data"
        }
      ],
      "source": [
        "df.VWAP.plot(figsize=(18,9));"
      ]
    },
    {
      "cell_type": "markdown",
      "id": "85f8e4fe",
      "metadata": {
        "papermill": {
          "duration": 0.015152,
          "end_time": "2024-04-03T17:38:30.819991",
          "exception": false,
          "start_time": "2024-04-03T17:38:30.804839",
          "status": "completed"
        },
        "tags": [],
        "id": "85f8e4fe"
      },
      "source": [
        "## Feature Engineering"
      ]
    },
    {
      "cell_type": "code",
      "execution_count": null,
      "id": "2939a770",
      "metadata": {
        "execution": {
          "iopub.execute_input": "2024-04-03T17:38:30.866440Z",
          "iopub.status.busy": "2024-04-03T17:38:30.865530Z",
          "iopub.status.idle": "2024-04-03T17:38:30.996809Z",
          "shell.execute_reply": "2024-04-03T17:38:30.993005Z"
        },
        "papermill": {
          "duration": 0.159684,
          "end_time": "2024-04-03T17:38:31.001422",
          "exception": false,
          "start_time": "2024-04-03T17:38:30.841738",
          "status": "completed"
        },
        "tags": [],
        "id": "2939a770",
        "outputId": "15af40d7-12d7-4f79-eb47-f84a82cd2a79"
      },
      "outputs": [
        {
          "name": "stderr",
          "output_type": "stream",
          "text": [
            "/opt/conda/lib/python3.7/site-packages/ipykernel_launcher.py:30: FutureWarning: Dropping of nuisance columns in DataFrame reductions (with 'numeric_only=None') is deprecated; in a future version this will raise TypeError.  Select only valid columns before calling the reduction.\n"
          ]
        },
        {
          "data": {
            "text/html": [
              "<div>\n",
              "<style scoped>\n",
              "    .dataframe tbody tr th:only-of-type {\n",
              "        vertical-align: middle;\n",
              "    }\n",
              "\n",
              "    .dataframe tbody tr th {\n",
              "        vertical-align: top;\n",
              "    }\n",
              "\n",
              "    .dataframe thead th {\n",
              "        text-align: right;\n",
              "    }\n",
              "</style>\n",
              "<table border=\"1\" class=\"dataframe\">\n",
              "  <thead>\n",
              "    <tr style=\"text-align: right;\">\n",
              "      <th></th>\n",
              "      <th>Date</th>\n",
              "      <th>Prev Close</th>\n",
              "      <th>Open</th>\n",
              "      <th>High</th>\n",
              "      <th>Low</th>\n",
              "      <th>Last</th>\n",
              "      <th>Close</th>\n",
              "      <th>VWAP</th>\n",
              "      <th>Volume</th>\n",
              "      <th>Turnover</th>\n",
              "      <th>...</th>\n",
              "      <th>Turnover_std_lag3</th>\n",
              "      <th>Turnover_std_lag7</th>\n",
              "      <th>Turnover_std_lag30</th>\n",
              "      <th>Trades_mean_lag3</th>\n",
              "      <th>Trades_mean_lag7</th>\n",
              "      <th>Trades_mean_lag30</th>\n",
              "      <th>Trades_std_lag3</th>\n",
              "      <th>Trades_std_lag7</th>\n",
              "      <th>Trades_std_lag30</th>\n",
              "      <th>Daily Return</th>\n",
              "    </tr>\n",
              "  </thead>\n",
              "  <tbody>\n",
              "    <tr>\n",
              "      <th>0</th>\n",
              "      <td>2000-01-03</td>\n",
              "      <td>14467.75</td>\n",
              "      <td>15625.00</td>\n",
              "      <td>15625.20</td>\n",
              "      <td>15625.00</td>\n",
              "      <td>15625.20</td>\n",
              "      <td>15625.20</td>\n",
              "      <td>15625.18</td>\n",
              "      <td>5137</td>\n",
              "      <td>8.026657e+12</td>\n",
              "      <td>...</td>\n",
              "      <td>1.319807e+14</td>\n",
              "      <td>1.650958e+14</td>\n",
              "      <td>2.173573e+14</td>\n",
              "      <td>111807.525866</td>\n",
              "      <td>111721.804472</td>\n",
              "      <td>110781.735637</td>\n",
              "      <td>33833.777083</td>\n",
              "      <td>42355.022823</td>\n",
              "      <td>55887.310701</td>\n",
              "      <td>0.000119</td>\n",
              "    </tr>\n",
              "    <tr>\n",
              "      <th>1</th>\n",
              "      <td>2000-01-04</td>\n",
              "      <td>15625.20</td>\n",
              "      <td>16800.00</td>\n",
              "      <td>16875.25</td>\n",
              "      <td>16253.00</td>\n",
              "      <td>16875.25</td>\n",
              "      <td>16855.90</td>\n",
              "      <td>16646.38</td>\n",
              "      <td>56186</td>\n",
              "      <td>9.352937e+13</td>\n",
              "      <td>...</td>\n",
              "      <td>1.319807e+14</td>\n",
              "      <td>1.650958e+14</td>\n",
              "      <td>2.173573e+14</td>\n",
              "      <td>111807.525866</td>\n",
              "      <td>111721.804472</td>\n",
              "      <td>110781.735637</td>\n",
              "      <td>33833.777083</td>\n",
              "      <td>42355.022823</td>\n",
              "      <td>55887.310701</td>\n",
              "      <td>0.078764</td>\n",
              "    </tr>\n",
              "    <tr>\n",
              "      <th>2</th>\n",
              "      <td>2000-01-05</td>\n",
              "      <td>16855.90</td>\n",
              "      <td>15701.00</td>\n",
              "      <td>16250.00</td>\n",
              "      <td>15507.45</td>\n",
              "      <td>15507.45</td>\n",
              "      <td>15507.45</td>\n",
              "      <td>15786.38</td>\n",
              "      <td>164605</td>\n",
              "      <td>2.598516e+14</td>\n",
              "      <td>...</td>\n",
              "      <td>6.045955e+13</td>\n",
              "      <td>6.045955e+13</td>\n",
              "      <td>6.045955e+13</td>\n",
              "      <td>111807.525866</td>\n",
              "      <td>111721.804472</td>\n",
              "      <td>110781.735637</td>\n",
              "      <td>33833.777083</td>\n",
              "      <td>42355.022823</td>\n",
              "      <td>55887.310701</td>\n",
              "      <td>-0.079999</td>\n",
              "    </tr>\n",
              "    <tr>\n",
              "      <th>3</th>\n",
              "      <td>2000-01-06</td>\n",
              "      <td>15507.45</td>\n",
              "      <td>15256.65</td>\n",
              "      <td>15300.00</td>\n",
              "      <td>14266.85</td>\n",
              "      <td>14266.85</td>\n",
              "      <td>14266.85</td>\n",
              "      <td>14462.82</td>\n",
              "      <td>81997</td>\n",
              "      <td>1.185908e+14</td>\n",
              "      <td>...</td>\n",
              "      <td>1.280557e+14</td>\n",
              "      <td>1.280557e+14</td>\n",
              "      <td>1.280557e+14</td>\n",
              "      <td>111807.525866</td>\n",
              "      <td>111721.804472</td>\n",
              "      <td>110781.735637</td>\n",
              "      <td>33833.777083</td>\n",
              "      <td>42355.022823</td>\n",
              "      <td>55887.310701</td>\n",
              "      <td>-0.080000</td>\n",
              "    </tr>\n",
              "    <tr>\n",
              "      <th>4</th>\n",
              "      <td>2000-01-07</td>\n",
              "      <td>14266.85</td>\n",
              "      <td>13125.50</td>\n",
              "      <td>13125.50</td>\n",
              "      <td>13125.50</td>\n",
              "      <td>13125.50</td>\n",
              "      <td>13125.50</td>\n",
              "      <td>13125.50</td>\n",
              "      <td>7589</td>\n",
              "      <td>9.960942e+12</td>\n",
              "      <td>...</td>\n",
              "      <td>8.967144e+13</td>\n",
              "      <td>1.045613e+14</td>\n",
              "      <td>1.045613e+14</td>\n",
              "      <td>111807.525866</td>\n",
              "      <td>111721.804472</td>\n",
              "      <td>110781.735637</td>\n",
              "      <td>33833.777083</td>\n",
              "      <td>42355.022823</td>\n",
              "      <td>55887.310701</td>\n",
              "      <td>-0.080000</td>\n",
              "    </tr>\n",
              "  </tbody>\n",
              "</table>\n",
              "<p>5 rows × 44 columns</p>\n",
              "</div>"
            ],
            "text/plain": [
              "         Date  Prev Close      Open      High       Low      Last     Close  \\\n",
              "0  2000-01-03    14467.75  15625.00  15625.20  15625.00  15625.20  15625.20   \n",
              "1  2000-01-04    15625.20  16800.00  16875.25  16253.00  16875.25  16855.90   \n",
              "2  2000-01-05    16855.90  15701.00  16250.00  15507.45  15507.45  15507.45   \n",
              "3  2000-01-06    15507.45  15256.65  15300.00  14266.85  14266.85  14266.85   \n",
              "4  2000-01-07    14266.85  13125.50  13125.50  13125.50  13125.50  13125.50   \n",
              "\n",
              "       VWAP  Volume      Turnover  ...  Turnover_std_lag3  Turnover_std_lag7  \\\n",
              "0  15625.18    5137  8.026657e+12  ...       1.319807e+14       1.650958e+14   \n",
              "1  16646.38   56186  9.352937e+13  ...       1.319807e+14       1.650958e+14   \n",
              "2  15786.38  164605  2.598516e+14  ...       6.045955e+13       6.045955e+13   \n",
              "3  14462.82   81997  1.185908e+14  ...       1.280557e+14       1.280557e+14   \n",
              "4  13125.50    7589  9.960942e+12  ...       8.967144e+13       1.045613e+14   \n",
              "\n",
              "   Turnover_std_lag30  Trades_mean_lag3  Trades_mean_lag7  Trades_mean_lag30  \\\n",
              "0        2.173573e+14     111807.525866     111721.804472      110781.735637   \n",
              "1        2.173573e+14     111807.525866     111721.804472      110781.735637   \n",
              "2        6.045955e+13     111807.525866     111721.804472      110781.735637   \n",
              "3        1.280557e+14     111807.525866     111721.804472      110781.735637   \n",
              "4        1.045613e+14     111807.525866     111721.804472      110781.735637   \n",
              "\n",
              "   Trades_std_lag3  Trades_std_lag7  Trades_std_lag30  Daily Return  \n",
              "0     33833.777083     42355.022823      55887.310701      0.000119  \n",
              "1     33833.777083     42355.022823      55887.310701      0.078764  \n",
              "2     33833.777083     42355.022823      55887.310701     -0.079999  \n",
              "3     33833.777083     42355.022823      55887.310701     -0.080000  \n",
              "4     33833.777083     42355.022823      55887.310701     -0.080000  \n",
              "\n",
              "[5 rows x 44 columns]"
            ]
          },
          "execution_count": 10,
          "metadata": {},
          "output_type": "execute_result"
        }
      ],
      "source": [
        "df.reset_index(drop=True, inplace=True)\n",
        "lag_features = ['High','Low','Volume','Turnover','Trades']\n",
        "window1 = 3\n",
        "window2 = 7\n",
        "window3 = 30\n",
        "\n",
        "df_rolled_3d = df[lag_features].rolling(window=window1, min_periods=0)\n",
        "df_rolled_7d = df[lag_features].rolling(window=window2, min_periods=0)\n",
        "df_rolled_30d = df[lag_features].rolling(window=window3, min_periods=0)\n",
        "\n",
        "df_mean_3d = df_rolled_3d.mean().shift(1).reset_index().astype(np.float64)\n",
        "df_mean_7d = df_rolled_7d.mean().shift(1).reset_index().astype(np.float64)\n",
        "df_mean_30d = df_rolled_30d.mean().shift(1).reset_index().astype(np.float64)\n",
        "\n",
        "df_std_3d = df_rolled_3d.std().shift(1).reset_index().astype(np.float64)\n",
        "df_std_7d = df_rolled_7d.std().shift(1).reset_index().astype(np.float64)\n",
        "df_std_30d = df_rolled_30d.std().shift(1).reset_index().astype(np.float64)\n",
        "\n",
        "for feature in lag_features:\n",
        "    df[f\"{feature}_mean_lag{window1}\"] = df_mean_3d[feature]\n",
        "    df[f\"{feature}_mean_lag{window2}\"] = df_mean_7d[feature]\n",
        "    df[f\"{feature}_mean_lag{window3}\"] = df_mean_30d[feature]\n",
        "\n",
        "    df[f\"{feature}_std_lag{window1}\"] = df_std_3d[feature]\n",
        "    df[f\"{feature}_std_lag{window2}\"] = df_std_7d[feature]\n",
        "    df[f\"{feature}_std_lag{window3}\"] = df_std_30d[feature]\n",
        "\n",
        "df['Daily Return'] = df['Close'].pct_change()\n",
        "\n",
        "df.fillna(df.mean(), inplace=True)\n",
        "df.head()\n"
      ]
    },
    {
      "cell_type": "markdown",
      "id": "b732d8d3",
      "metadata": {
        "papermill": {
          "duration": 0.015767,
          "end_time": "2024-04-03T17:38:31.039801",
          "exception": false,
          "start_time": "2024-04-03T17:38:31.024034",
          "status": "completed"
        },
        "tags": [],
        "id": "b732d8d3"
      },
      "source": [
        "For boosting models, it is very useful to add datetime features like hour, day, month, as applicable to provide the model information about the time component in the data. For time series models it is not explicitly required to pass this information"
      ]
    },
    {
      "cell_type": "code",
      "execution_count": null,
      "id": "23a64366",
      "metadata": {
        "execution": {
          "iopub.execute_input": "2024-04-03T17:38:31.075732Z",
          "iopub.status.busy": "2024-04-03T17:38:31.074865Z",
          "iopub.status.idle": "2024-04-03T17:38:31.134239Z",
          "shell.execute_reply": "2024-04-03T17:38:31.133201Z"
        },
        "papermill": {
          "duration": 0.080159,
          "end_time": "2024-04-03T17:38:31.136681",
          "exception": false,
          "start_time": "2024-04-03T17:38:31.056522",
          "status": "completed"
        },
        "tags": [],
        "id": "23a64366",
        "outputId": "b2a78df7-28e6-4258-9464-2c981ef3f8a9"
      },
      "outputs": [
        {
          "name": "stderr",
          "output_type": "stream",
          "text": [
            "/opt/conda/lib/python3.7/site-packages/ipykernel_launcher.py:4: FutureWarning: Series.dt.weekofyear and Series.dt.week have been deprecated.  Please use Series.dt.isocalendar().week instead.\n",
            "  after removing the cwd from sys.path.\n"
          ]
        },
        {
          "data": {
            "text/html": [
              "<div>\n",
              "<style scoped>\n",
              "    .dataframe tbody tr th:only-of-type {\n",
              "        vertical-align: middle;\n",
              "    }\n",
              "\n",
              "    .dataframe tbody tr th {\n",
              "        vertical-align: top;\n",
              "    }\n",
              "\n",
              "    .dataframe thead th {\n",
              "        text-align: right;\n",
              "    }\n",
              "</style>\n",
              "<table border=\"1\" class=\"dataframe\">\n",
              "  <thead>\n",
              "    <tr style=\"text-align: right;\">\n",
              "      <th></th>\n",
              "      <th>Date</th>\n",
              "      <th>Prev Close</th>\n",
              "      <th>Open</th>\n",
              "      <th>High</th>\n",
              "      <th>Low</th>\n",
              "      <th>Last</th>\n",
              "      <th>Close</th>\n",
              "      <th>VWAP</th>\n",
              "      <th>Volume</th>\n",
              "      <th>Turnover</th>\n",
              "      <th>...</th>\n",
              "      <th>Trades_mean_lag7</th>\n",
              "      <th>Trades_mean_lag30</th>\n",
              "      <th>Trades_std_lag3</th>\n",
              "      <th>Trades_std_lag7</th>\n",
              "      <th>Trades_std_lag30</th>\n",
              "      <th>Daily Return</th>\n",
              "      <th>month</th>\n",
              "      <th>week</th>\n",
              "      <th>day</th>\n",
              "      <th>day_of_week</th>\n",
              "    </tr>\n",
              "    <tr>\n",
              "      <th>Date</th>\n",
              "      <th></th>\n",
              "      <th></th>\n",
              "      <th></th>\n",
              "      <th></th>\n",
              "      <th></th>\n",
              "      <th></th>\n",
              "      <th></th>\n",
              "      <th></th>\n",
              "      <th></th>\n",
              "      <th></th>\n",
              "      <th></th>\n",
              "      <th></th>\n",
              "      <th></th>\n",
              "      <th></th>\n",
              "      <th></th>\n",
              "      <th></th>\n",
              "      <th></th>\n",
              "      <th></th>\n",
              "      <th></th>\n",
              "      <th></th>\n",
              "      <th></th>\n",
              "    </tr>\n",
              "  </thead>\n",
              "  <tbody>\n",
              "    <tr>\n",
              "      <th>2000-01-03</th>\n",
              "      <td>2000-01-03</td>\n",
              "      <td>14467.75</td>\n",
              "      <td>15625.00</td>\n",
              "      <td>15625.20</td>\n",
              "      <td>15625.00</td>\n",
              "      <td>15625.20</td>\n",
              "      <td>15625.20</td>\n",
              "      <td>15625.18</td>\n",
              "      <td>5137</td>\n",
              "      <td>8.026657e+12</td>\n",
              "      <td>...</td>\n",
              "      <td>111721.804472</td>\n",
              "      <td>110781.735637</td>\n",
              "      <td>33833.777083</td>\n",
              "      <td>42355.022823</td>\n",
              "      <td>55887.310701</td>\n",
              "      <td>0.000119</td>\n",
              "      <td>1</td>\n",
              "      <td>1</td>\n",
              "      <td>1</td>\n",
              "      <td>0</td>\n",
              "    </tr>\n",
              "    <tr>\n",
              "      <th>2000-01-04</th>\n",
              "      <td>2000-01-04</td>\n",
              "      <td>15625.20</td>\n",
              "      <td>16800.00</td>\n",
              "      <td>16875.25</td>\n",
              "      <td>16253.00</td>\n",
              "      <td>16875.25</td>\n",
              "      <td>16855.90</td>\n",
              "      <td>16646.38</td>\n",
              "      <td>56186</td>\n",
              "      <td>9.352937e+13</td>\n",
              "      <td>...</td>\n",
              "      <td>111721.804472</td>\n",
              "      <td>110781.735637</td>\n",
              "      <td>33833.777083</td>\n",
              "      <td>42355.022823</td>\n",
              "      <td>55887.310701</td>\n",
              "      <td>0.078764</td>\n",
              "      <td>1</td>\n",
              "      <td>1</td>\n",
              "      <td>1</td>\n",
              "      <td>1</td>\n",
              "    </tr>\n",
              "    <tr>\n",
              "      <th>2000-01-05</th>\n",
              "      <td>2000-01-05</td>\n",
              "      <td>16855.90</td>\n",
              "      <td>15701.00</td>\n",
              "      <td>16250.00</td>\n",
              "      <td>15507.45</td>\n",
              "      <td>15507.45</td>\n",
              "      <td>15507.45</td>\n",
              "      <td>15786.38</td>\n",
              "      <td>164605</td>\n",
              "      <td>2.598516e+14</td>\n",
              "      <td>...</td>\n",
              "      <td>111721.804472</td>\n",
              "      <td>110781.735637</td>\n",
              "      <td>33833.777083</td>\n",
              "      <td>42355.022823</td>\n",
              "      <td>55887.310701</td>\n",
              "      <td>-0.079999</td>\n",
              "      <td>1</td>\n",
              "      <td>1</td>\n",
              "      <td>1</td>\n",
              "      <td>2</td>\n",
              "    </tr>\n",
              "    <tr>\n",
              "      <th>2000-01-06</th>\n",
              "      <td>2000-01-06</td>\n",
              "      <td>15507.45</td>\n",
              "      <td>15256.65</td>\n",
              "      <td>15300.00</td>\n",
              "      <td>14266.85</td>\n",
              "      <td>14266.85</td>\n",
              "      <td>14266.85</td>\n",
              "      <td>14462.82</td>\n",
              "      <td>81997</td>\n",
              "      <td>1.185908e+14</td>\n",
              "      <td>...</td>\n",
              "      <td>111721.804472</td>\n",
              "      <td>110781.735637</td>\n",
              "      <td>33833.777083</td>\n",
              "      <td>42355.022823</td>\n",
              "      <td>55887.310701</td>\n",
              "      <td>-0.080000</td>\n",
              "      <td>1</td>\n",
              "      <td>1</td>\n",
              "      <td>1</td>\n",
              "      <td>3</td>\n",
              "    </tr>\n",
              "    <tr>\n",
              "      <th>2000-01-07</th>\n",
              "      <td>2000-01-07</td>\n",
              "      <td>14266.85</td>\n",
              "      <td>13125.50</td>\n",
              "      <td>13125.50</td>\n",
              "      <td>13125.50</td>\n",
              "      <td>13125.50</td>\n",
              "      <td>13125.50</td>\n",
              "      <td>13125.50</td>\n",
              "      <td>7589</td>\n",
              "      <td>9.960942e+12</td>\n",
              "      <td>...</td>\n",
              "      <td>111721.804472</td>\n",
              "      <td>110781.735637</td>\n",
              "      <td>33833.777083</td>\n",
              "      <td>42355.022823</td>\n",
              "      <td>55887.310701</td>\n",
              "      <td>-0.080000</td>\n",
              "      <td>1</td>\n",
              "      <td>1</td>\n",
              "      <td>1</td>\n",
              "      <td>4</td>\n",
              "    </tr>\n",
              "  </tbody>\n",
              "</table>\n",
              "<p>5 rows × 48 columns</p>\n",
              "</div>"
            ],
            "text/plain": [
              "                 Date  Prev Close      Open      High       Low      Last  \\\n",
              "Date                                                                        \n",
              "2000-01-03 2000-01-03    14467.75  15625.00  15625.20  15625.00  15625.20   \n",
              "2000-01-04 2000-01-04    15625.20  16800.00  16875.25  16253.00  16875.25   \n",
              "2000-01-05 2000-01-05    16855.90  15701.00  16250.00  15507.45  15507.45   \n",
              "2000-01-06 2000-01-06    15507.45  15256.65  15300.00  14266.85  14266.85   \n",
              "2000-01-07 2000-01-07    14266.85  13125.50  13125.50  13125.50  13125.50   \n",
              "\n",
              "               Close      VWAP  Volume      Turnover  ...  Trades_mean_lag7  \\\n",
              "Date                                                  ...                     \n",
              "2000-01-03  15625.20  15625.18    5137  8.026657e+12  ...     111721.804472   \n",
              "2000-01-04  16855.90  16646.38   56186  9.352937e+13  ...     111721.804472   \n",
              "2000-01-05  15507.45  15786.38  164605  2.598516e+14  ...     111721.804472   \n",
              "2000-01-06  14266.85  14462.82   81997  1.185908e+14  ...     111721.804472   \n",
              "2000-01-07  13125.50  13125.50    7589  9.960942e+12  ...     111721.804472   \n",
              "\n",
              "            Trades_mean_lag30  Trades_std_lag3  Trades_std_lag7  \\\n",
              "Date                                                              \n",
              "2000-01-03      110781.735637     33833.777083     42355.022823   \n",
              "2000-01-04      110781.735637     33833.777083     42355.022823   \n",
              "2000-01-05      110781.735637     33833.777083     42355.022823   \n",
              "2000-01-06      110781.735637     33833.777083     42355.022823   \n",
              "2000-01-07      110781.735637     33833.777083     42355.022823   \n",
              "\n",
              "            Trades_std_lag30  Daily Return  month  week  day  day_of_week  \n",
              "Date                                                                       \n",
              "2000-01-03      55887.310701      0.000119      1     1    1            0  \n",
              "2000-01-04      55887.310701      0.078764      1     1    1            1  \n",
              "2000-01-05      55887.310701     -0.079999      1     1    1            2  \n",
              "2000-01-06      55887.310701     -0.080000      1     1    1            3  \n",
              "2000-01-07      55887.310701     -0.080000      1     1    1            4  \n",
              "\n",
              "[5 rows x 48 columns]"
            ]
          },
          "execution_count": 11,
          "metadata": {},
          "output_type": "execute_result"
        }
      ],
      "source": [
        "# extracting date time features\n",
        "df.Date = pd.to_datetime(df.Date, format='%Y-%m-%d')\n",
        "df['month'] = df.Date.dt.month\n",
        "df[\"week\"] = df.Date.dt.week\n",
        "df['day'] = df.Date.dt.month\n",
        "df['day_of_week'] = df.Date.dt.dayofweek\n",
        "\n",
        "df['Date'] = pd.to_datetime(df['Date'])\n",
        "df.set_index('Date', drop=False, inplace=True)\n",
        "\n",
        "df.head()"
      ]
    },
    {
      "cell_type": "code",
      "execution_count": null,
      "id": "0ee9f707",
      "metadata": {
        "execution": {
          "iopub.execute_input": "2024-04-03T17:38:31.171521Z",
          "iopub.status.busy": "2024-04-03T17:38:31.171053Z",
          "iopub.status.idle": "2024-04-03T17:38:31.178327Z",
          "shell.execute_reply": "2024-04-03T17:38:31.177365Z"
        },
        "papermill": {
          "duration": 0.02808,
          "end_time": "2024-04-03T17:38:31.181088",
          "exception": false,
          "start_time": "2024-04-03T17:38:31.153008",
          "status": "completed"
        },
        "tags": [],
        "id": "0ee9f707",
        "outputId": "57425a0c-52e8-4834-ee56-4a5c42d6ee7c"
      },
      "outputs": [
        {
          "data": {
            "text/plain": [
              "Index(['Date', 'Prev Close', 'Open', 'High', 'Low', 'Last', 'Close', 'VWAP',\n",
              "       'Volume', 'Turnover', 'Trades', 'Deliverable Volume', '%Deliverble',\n",
              "       'High_mean_lag3', 'High_mean_lag7', 'High_mean_lag30', 'High_std_lag3',\n",
              "       'High_std_lag7', 'High_std_lag30', 'Low_mean_lag3', 'Low_mean_lag7',\n",
              "       'Low_mean_lag30', 'Low_std_lag3', 'Low_std_lag7', 'Low_std_lag30',\n",
              "       'Volume_mean_lag3', 'Volume_mean_lag7', 'Volume_mean_lag30',\n",
              "       'Volume_std_lag3', 'Volume_std_lag7', 'Volume_std_lag30',\n",
              "       'Turnover_mean_lag3', 'Turnover_mean_lag7', 'Turnover_mean_lag30',\n",
              "       'Turnover_std_lag3', 'Turnover_std_lag7', 'Turnover_std_lag30',\n",
              "       'Trades_mean_lag3', 'Trades_mean_lag7', 'Trades_mean_lag30',\n",
              "       'Trades_std_lag3', 'Trades_std_lag7', 'Trades_std_lag30',\n",
              "       'Daily Return', 'month', 'week', 'day', 'day_of_week'],\n",
              "      dtype='object')"
            ]
          },
          "execution_count": 12,
          "metadata": {},
          "output_type": "execute_result"
        }
      ],
      "source": [
        "df.columns"
      ]
    },
    {
      "cell_type": "markdown",
      "id": "4532f664",
      "metadata": {
        "papermill": {
          "duration": 0.016693,
          "end_time": "2024-04-03T17:38:31.214866",
          "exception": false,
          "start_time": "2024-04-03T17:38:31.198173",
          "status": "completed"
        },
        "tags": [],
        "id": "4532f664"
      },
      "source": [
        "### RNN n Friends"
      ]
    },
    {
      "cell_type": "code",
      "execution_count": null,
      "id": "84dd1ad5",
      "metadata": {
        "execution": {
          "iopub.execute_input": "2024-04-03T17:38:31.250990Z",
          "iopub.status.busy": "2024-04-03T17:38:31.250135Z",
          "iopub.status.idle": "2024-04-03T17:38:31.256214Z",
          "shell.execute_reply": "2024-04-03T17:38:31.255238Z"
        },
        "papermill": {
          "duration": 0.027129,
          "end_time": "2024-04-03T17:38:31.258841",
          "exception": false,
          "start_time": "2024-04-03T17:38:31.231712",
          "status": "completed"
        },
        "tags": [],
        "id": "84dd1ad5"
      },
      "outputs": [],
      "source": [
        "def rmse(x, y):\n",
        "    return np.round(np.sqrt(mean_squared_error(x,y)), 4)"
      ]
    },
    {
      "cell_type": "code",
      "execution_count": null,
      "id": "b3f02a73",
      "metadata": {
        "execution": {
          "iopub.execute_input": "2024-04-03T17:38:31.297953Z",
          "iopub.status.busy": "2024-04-03T17:38:31.297034Z",
          "iopub.status.idle": "2024-04-03T17:38:31.305619Z",
          "shell.execute_reply": "2024-04-03T17:38:31.304316Z"
        },
        "papermill": {
          "duration": 0.030954,
          "end_time": "2024-04-03T17:38:31.308471",
          "exception": false,
          "start_time": "2024-04-03T17:38:31.277517",
          "status": "completed"
        },
        "tags": [],
        "id": "b3f02a73"
      },
      "outputs": [],
      "source": [
        "def create_dataset(df, look_back, look_ahead):\n",
        "    xdat, ydat = [], []\n",
        "    for i in range(len(df) - look_back - look_ahead):\n",
        "        xdat.append(df[i:i+look_back,0])\n",
        "        ydat.append(df[i+look_back: i+look_back+look_ahead,0])\n",
        "\n",
        "    xdat, ydat = np.array(xdat), np.array(ydat).reshape(-1, look_ahead)\n",
        "    return xdat, ydat"
      ]
    },
    {
      "cell_type": "code",
      "execution_count": null,
      "id": "5baa3549",
      "metadata": {
        "execution": {
          "iopub.execute_input": "2024-04-03T17:38:31.344325Z",
          "iopub.status.busy": "2024-04-03T17:38:31.343712Z",
          "iopub.status.idle": "2024-04-03T17:38:31.352086Z",
          "shell.execute_reply": "2024-04-03T17:38:31.350765Z"
        },
        "papermill": {
          "duration": 0.02983,
          "end_time": "2024-04-03T17:38:31.355038",
          "exception": false,
          "start_time": "2024-04-03T17:38:31.325208",
          "status": "completed"
        },
        "tags": [],
        "id": "5baa3549"
      },
      "outputs": [],
      "source": [
        "def prepare_split(xdat, ydat, cutoff=5000, timesteps=50):\n",
        "    xtrain, xvalid = xdat[:cutoff, :], xdat[cutoff:,]\n",
        "    ytrain, yvalid = ydat[:cutoff, :], ydat[cutoff:,]\n",
        "\n",
        "    # reshape into [batch size, time steps, dimensionality]\n",
        "    xtrain = xtrain.reshape(-1, timesteps, 1)\n",
        "    xvalid = xvalid.reshape(-1, timesteps, 1)\n",
        "\n",
        "    return xtrain, ytrain, xvalid, yvalid"
      ]
    },
    {
      "cell_type": "code",
      "execution_count": null,
      "id": "7962c254",
      "metadata": {
        "execution": {
          "iopub.execute_input": "2024-04-03T17:38:31.391011Z",
          "iopub.status.busy": "2024-04-03T17:38:31.390557Z",
          "iopub.status.idle": "2024-04-03T17:38:31.730203Z",
          "shell.execute_reply": "2024-04-03T17:38:31.728921Z"
        },
        "papermill": {
          "duration": 0.361266,
          "end_time": "2024-04-03T17:38:31.733278",
          "exception": false,
          "start_time": "2024-04-03T17:38:31.372012",
          "status": "completed"
        },
        "tags": [],
        "id": "7962c254",
        "outputId": "1d58c2c5-b8b2-41c0-87b6-afe9c1d22401"
      },
      "outputs": [
        {
          "data": {
            "text/plain": [
              "<AxesSubplot:xlabel='Date'>"
            ]
          },
          "execution_count": 16,
          "metadata": {},
          "output_type": "execute_result"
        },
        {
          "data": {
            "image/png": "[encoded data removed]",
            "text/plain": [
              "<Figure size 432x288 with 1 Axes>"
            ]
          },
          "metadata": {
            "needs_background": "light"
          },
          "output_type": "display_data"
        }
      ],
      "source": [
        "df = pd.read_csv(\"/kaggle/input/nifty50-stock-market-data/BAJAJFINSV.csv\", usecols=['Date', 'VWAP'])\n",
        "df['Date'] = pd.to_datetime(df['Date'])\n",
        "df.set_index('Date', inplace=True)\n",
        "df.VWAP.plot()"
      ]
    },
    {
      "cell_type": "markdown",
      "id": "656493a5",
      "metadata": {
        "papermill": {
          "duration": 0.01706,
          "end_time": "2024-04-03T17:38:31.768733",
          "exception": false,
          "start_time": "2024-04-03T17:38:31.751673",
          "status": "completed"
        },
        "tags": [],
        "id": "656493a5"
      },
      "source": [
        "    When dealing with time series through RNN we typically - wrappers like Kats or darts notwithstanding - need to format the input data into a shape [batch size, time steps, dimensionality] where the last one is 1 for univariate series (single step ahead predictions) and more for multivariate ones (including univariate series + covariates"
      ]
    },
    {
      "cell_type": "code",
      "execution_count": null,
      "id": "b4129c41",
      "metadata": {
        "execution": {
          "iopub.execute_input": "2024-04-03T17:38:31.806477Z",
          "iopub.status.busy": "2024-04-03T17:38:31.806026Z",
          "iopub.status.idle": "2024-04-03T17:38:31.814383Z",
          "shell.execute_reply": "2024-04-03T17:38:31.813373Z"
        },
        "papermill": {
          "duration": 0.03026,
          "end_time": "2024-04-03T17:38:31.816805",
          "exception": false,
          "start_time": "2024-04-03T17:38:31.786545",
          "status": "completed"
        },
        "tags": [],
        "id": "b4129c41"
      },
      "outputs": [],
      "source": [
        "scaler = MinMaxScaler()\n",
        "df = scaler.fit_transform(df)"
      ]
    },
    {
      "cell_type": "code",
      "execution_count": null,
      "id": "a2ce1490",
      "metadata": {
        "execution": {
          "iopub.execute_input": "2024-04-03T17:38:31.857642Z",
          "iopub.status.busy": "2024-04-03T17:38:31.856513Z",
          "iopub.status.idle": "2024-04-03T17:38:31.874412Z",
          "shell.execute_reply": "2024-04-03T17:38:31.873108Z"
        },
        "papermill": {
          "duration": 0.042854,
          "end_time": "2024-04-03T17:38:31.877082",
          "exception": false,
          "start_time": "2024-04-03T17:38:31.834228",
          "status": "completed"
        },
        "tags": [],
        "id": "a2ce1490",
        "outputId": "d0ac08a8-f37d-45a0-ee3b-cc7fd535ae38"
      },
      "outputs": [
        {
          "name": "stdout",
          "output_type": "stream",
          "text": [
            "(3150, 50) (3150, 1)\n"
          ]
        }
      ],
      "source": [
        "# use 50 historical observation and predict 1 step ahead\n",
        "\n",
        "look_back = 50\n",
        "look_ahead = 1\n",
        "\n",
        "xdat, ydat = create_dataset(df, look_back, look_ahead)\n",
        "\n",
        "print(xdat.shape, ydat.shape)"
      ]
    },
    {
      "cell_type": "markdown",
      "id": "9faf0347",
      "metadata": {
        "papermill": {
          "duration": 0.017736,
          "end_time": "2024-04-03T17:38:31.912374",
          "exception": false,
          "start_time": "2024-04-03T17:38:31.894638",
          "status": "completed"
        },
        "tags": [],
        "id": "9faf0347"
      },
      "source": [
        "Our prepare_split function takes care of reshaping the data into [batch size, time steps, dimensionality]"
      ]
    },
    {
      "cell_type": "code",
      "execution_count": null,
      "id": "9c2cce4b",
      "metadata": {
        "execution": {
          "iopub.execute_input": "2024-04-03T17:38:31.949002Z",
          "iopub.status.busy": "2024-04-03T17:38:31.948575Z",
          "iopub.status.idle": "2024-04-03T17:38:31.955385Z",
          "shell.execute_reply": "2024-04-03T17:38:31.954483Z"
        },
        "papermill": {
          "duration": 0.028477,
          "end_time": "2024-04-03T17:38:31.958305",
          "exception": false,
          "start_time": "2024-04-03T17:38:31.929828",
          "status": "completed"
        },
        "tags": [],
        "id": "9c2cce4b",
        "outputId": "977a9515-2f30-444e-e77a-4290e2faafdb"
      },
      "outputs": [
        {
          "name": "stdout",
          "output_type": "stream",
          "text": [
            "(3000, 50, 1) (150, 50, 1) (3000, 1) (150, 1)\n"
          ]
        }
      ],
      "source": [
        "xtrain, ytrain, xvalid, yvalid = prepare_split(xdat, ydat, cutoff = 3000, timesteps = look_back)\n",
        "\n",
        "print(xtrain.shape, xvalid.shape, ytrain.shape, yvalid.shape)"
      ]
    },
    {
      "cell_type": "code",
      "execution_count": null,
      "id": "301c1bcd",
      "metadata": {
        "execution": {
          "iopub.execute_input": "2024-04-03T17:38:31.996522Z",
          "iopub.status.busy": "2024-04-03T17:38:31.996003Z",
          "iopub.status.idle": "2024-04-03T17:38:32.238818Z",
          "shell.execute_reply": "2024-04-03T17:38:32.237535Z"
        },
        "papermill": {
          "duration": 0.265069,
          "end_time": "2024-04-03T17:38:32.241763",
          "exception": false,
          "start_time": "2024-04-03T17:38:31.976694",
          "status": "completed"
        },
        "tags": [],
        "id": "301c1bcd",
        "outputId": "b7b4d397-019c-4253-fad8-70498b85e9d6"
      },
      "outputs": [
        {
          "name": "stdout",
          "output_type": "stream",
          "text": [
            "Model: \"sequential\"\n",
            "_________________________________________________________________\n",
            "Layer (type)                 Output Shape              Param #   \n",
            "=================================================================\n",
            "simple_rnn (SimpleRNN)       (None, 10)                120       \n",
            "_________________________________________________________________\n",
            "dense (Dense)                (None, 1)                 11        \n",
            "=================================================================\n",
            "Total params: 131\n",
            "Trainable params: 131\n",
            "Non-trainable params: 0\n",
            "_________________________________________________________________\n"
          ]
        }
      ],
      "source": [
        "# simple RNN model\n",
        "\n",
        "def create_model():\n",
        "    model = Sequential()\n",
        "    model.add(SimpleRNN(10, input_shape=[None, 1]))\n",
        "    model.add(Dense(1))\n",
        "\n",
        "    model.compile(loss='mean_squared_error', optimizer='adam')\n",
        "    return model\n",
        "\n",
        "model = create_model()\n",
        "model.summary()"
      ]
    },
    {
      "cell_type": "code",
      "execution_count": null,
      "id": "aeec588d",
      "metadata": {
        "execution": {
          "iopub.execute_input": "2024-04-03T17:38:32.278829Z",
          "iopub.status.busy": "2024-04-03T17:38:32.278376Z",
          "iopub.status.idle": "2024-04-03T17:39:14.744783Z",
          "shell.execute_reply": "2024-04-03T17:39:14.743576Z"
        },
        "papermill": {
          "duration": 42.540681,
          "end_time": "2024-04-03T17:39:14.800072",
          "exception": false,
          "start_time": "2024-04-03T17:38:32.259391",
          "status": "completed"
        },
        "tags": [],
        "id": "aeec588d",
        "outputId": "7209d532-77ec-454d-8277-f526491b6845"
      },
      "outputs": [
        {
          "name": "stdout",
          "output_type": "stream",
          "text": [
            "Epoch 1/10\n",
            "188/188 [==============================] - 4s 12ms/step - loss: 7.7129e-04 - val_loss: 0.0014\n",
            "Epoch 2/10\n",
            "188/188 [==============================] - 2s 11ms/step - loss: 1.2762e-04 - val_loss: 7.4763e-04\n",
            "Epoch 3/10\n",
            "188/188 [==============================] - 2s 10ms/step - loss: 1.0115e-04 - val_loss: 6.3290e-04\n",
            "Epoch 4/10\n",
            "188/188 [==============================] - 2s 11ms/step - loss: 8.7385e-05 - val_loss: 3.8386e-04\n",
            "Epoch 5/10\n",
            "188/188 [==============================] - 2s 10ms/step - loss: 7.8597e-05 - val_loss: 3.9580e-04\n",
            "Epoch 6/10\n",
            "188/188 [==============================] - 2s 10ms/step - loss: 7.8366e-05 - val_loss: 3.0242e-04\n",
            "Epoch 7/10\n",
            "188/188 [==============================] - 2s 10ms/step - loss: 7.0680e-05 - val_loss: 2.8567e-04\n",
            "Epoch 8/10\n",
            "188/188 [==============================] - 2s 10ms/step - loss: 6.8346e-05 - val_loss: 6.9129e-04\n",
            "Epoch 9/10\n",
            "188/188 [==============================] - 2s 11ms/step - loss: 6.7000e-05 - val_loss: 3.1697e-04\n",
            "Epoch 10/10\n",
            "188/188 [==============================] - 3s 14ms/step - loss: 5.6139e-05 - val_loss: 3.5687e-04\n"
          ]
        },
        {
          "data": {
            "text/plain": [
              "<keras.callbacks.History at 0x7b723883b750>"
            ]
          },
          "execution_count": 21,
          "metadata": {},
          "output_type": "execute_result"
        }
      ],
      "source": [
        "early_stop = EarlyStopping(monitor = 'val_loss', min_delta = 0.001,\n",
        "                           patience = 5, mode = 'min', verbose = 1,\n",
        "                           restore_best_weights = True)\n",
        "\n",
        "model.fit(xtrain, ytrain, validation_data=(xvalid, yvalid),\n",
        "           epochs = 10,\n",
        "           batch_size = 16,\n",
        "           callbacks=[ early_stop])"
      ]
    },
    {
      "cell_type": "code",
      "execution_count": null,
      "id": "dcb0025d",
      "metadata": {
        "execution": {
          "iopub.execute_input": "2024-04-03T17:39:14.905938Z",
          "iopub.status.busy": "2024-04-03T17:39:14.904693Z",
          "iopub.status.idle": "2024-04-03T17:39:15.232311Z",
          "shell.execute_reply": "2024-04-03T17:39:15.231164Z"
        },
        "papermill": {
          "duration": 0.383098,
          "end_time": "2024-04-03T17:39:15.235201",
          "exception": false,
          "start_time": "2024-04-03T17:39:14.852103",
          "status": "completed"
        },
        "tags": [],
        "id": "dcb0025d"
      },
      "outputs": [],
      "source": [
        "y_pred = model.predict(xvalid)\n",
        "y_pred = scaler.inverse_transform(y_pred)\n",
        "yvalid1 = scaler.inverse_transform(yvalid)"
      ]
    },
    {
      "cell_type": "code",
      "execution_count": null,
      "id": "78745cd2",
      "metadata": {
        "execution": {
          "iopub.execute_input": "2024-04-03T17:39:15.338073Z",
          "iopub.status.busy": "2024-04-03T17:39:15.337637Z",
          "iopub.status.idle": "2024-04-03T17:39:15.346876Z",
          "shell.execute_reply": "2024-04-03T17:39:15.345565Z"
        },
        "papermill": {
          "duration": 0.064846,
          "end_time": "2024-04-03T17:39:15.349765",
          "exception": false,
          "start_time": "2024-04-03T17:39:15.284919",
          "status": "completed"
        },
        "tags": [],
        "id": "78745cd2",
        "outputId": "395f67ff-70cc-42fe-8367-1287183302a1"
      },
      "outputs": [
        {
          "name": "stdout",
          "output_type": "stream",
          "text": [
            "RMSE:207.6595\n",
            "RMSE:207.65945244105248\n"
          ]
        }
      ],
      "source": [
        "print('RMSE:'+str(rmse(y_pred, scaler.inverse_transform(yvalid))))\n",
        "print('RMSE:'+str(np.sqrt(mean_squared_error(y_pred, yvalid1))))"
      ]
    },
    {
      "cell_type": "code",
      "execution_count": null,
      "id": "fb919a92",
      "metadata": {
        "execution": {
          "iopub.execute_input": "2024-04-03T17:39:15.454490Z",
          "iopub.status.busy": "2024-04-03T17:39:15.454008Z",
          "iopub.status.idle": "2024-04-03T17:39:15.699728Z",
          "shell.execute_reply": "2024-04-03T17:39:15.698091Z"
        },
        "papermill": {
          "duration": 0.300882,
          "end_time": "2024-04-03T17:39:15.702778",
          "exception": false,
          "start_time": "2024-04-03T17:39:15.401896",
          "status": "completed"
        },
        "tags": [],
        "id": "fb919a92",
        "outputId": "3736cc43-791b-469e-be29-074a79abfccd"
      },
      "outputs": [
        {
          "data": {
            "image/png": "[encoded data removed]",
            "text/plain": [
              "<Figure size 432x288 with 1 Axes>"
            ]
          },
          "metadata": {
            "needs_background": "light"
          },
          "output_type": "display_data"
        }
      ],
      "source": [
        "plt.plot(yvalid1, label = 'real')\n",
        "plt.plot(y_pred, label = 'predicted')\n",
        "plt.ylabel('')\n",
        "plt.legend()\n",
        "plt.show()"
      ]
    },
    {
      "cell_type": "markdown",
      "id": "3c58aac5",
      "metadata": {
        "papermill": {
          "duration": 0.05443,
          "end_time": "2024-04-03T17:39:15.807434",
          "exception": false,
          "start_time": "2024-04-03T17:39:15.753004",
          "status": "completed"
        },
        "tags": [],
        "id": "3c58aac5"
      },
      "source": [
        "### GRU"
      ]
    },
    {
      "cell_type": "markdown",
      "id": "22815665",
      "metadata": {
        "papermill": {
          "duration": 0.050013,
          "end_time": "2024-04-03T17:39:15.908245",
          "exception": false,
          "start_time": "2024-04-03T17:39:15.858232",
          "status": "completed"
        },
        "tags": [],
        "id": "22815665"
      },
      "source": [
        "Same workflow, different operation inside a unit\n",
        "\n",
        "    * used a hidden state\n",
        "\n",
        "    * two gates: reset and update  →  control how much / which information to retain\n",
        "\n",
        "    * reset gate: used to decide whether the previous cell state is important or not; not always used. If close to 0, previous hidden state is mostly ignored: model drops information irrelevant to the future.\n",
        "\n",
        "    * update gate: decides if the cell state should be updated with the candidate state (current activation value) or not. If close to 1, we can copy information in that unit through subsequent steps\n",
        "\n",
        "    * candidate cell: hidden state(activation) of RNN\n",
        "\n",
        "    * final cell state: dependent on the update gate, It may or may not be updated with candidate state. Remove some content from last cell state, and write some new cell content. In GRU the final cell state is directly passing as the activation to the next cell."
      ]
    },
    {
      "cell_type": "code",
      "execution_count": null,
      "id": "0eade67a",
      "metadata": {
        "execution": {
          "iopub.execute_input": "2024-04-03T17:39:16.013827Z",
          "iopub.status.busy": "2024-04-03T17:39:16.012494Z",
          "iopub.status.idle": "2024-04-03T17:39:16.490046Z",
          "shell.execute_reply": "2024-04-03T17:39:16.488626Z"
        },
        "papermill": {
          "duration": 0.533215,
          "end_time": "2024-04-03T17:39:16.492840",
          "exception": false,
          "start_time": "2024-04-03T17:39:15.959625",
          "status": "completed"
        },
        "tags": [],
        "id": "0eade67a",
        "outputId": "9d96af6e-996a-4b1b-cdea-4250035f69df"
      },
      "outputs": [
        {
          "name": "stdout",
          "output_type": "stream",
          "text": [
            "Model: \"sequential_1\"\n",
            "_________________________________________________________________\n",
            "Layer (type)                 Output Shape              Param #   \n",
            "=================================================================\n",
            "gru (GRU)                    (None, None, 10)          390       \n",
            "_________________________________________________________________\n",
            "gru_1 (GRU)                  (None, 10)                660       \n",
            "_________________________________________________________________\n",
            "dense_1 (Dense)              (None, 1)                 11        \n",
            "=================================================================\n",
            "Total params: 1,061\n",
            "Trainable params: 1,061\n",
            "Non-trainable params: 0\n",
            "_________________________________________________________________\n"
          ]
        }
      ],
      "source": [
        "def create_model(out_dim):\n",
        "    model = Sequential()\n",
        "    model.add(GRU(10, input_shape=[None, 1], return_sequences=True))\n",
        "    model.add(GRU(10, input_shape=[None, 1]))\n",
        "    model.add(Dense(out_dim))\n",
        "\n",
        "    model.compile(loss='mean_squared_error', optimizer='adam')\n",
        "    return model\n",
        "\n",
        "model = create_model(look_ahead)\n",
        "model.summary()"
      ]
    },
    {
      "cell_type": "code",
      "execution_count": null,
      "id": "94aa7071",
      "metadata": {
        "execution": {
          "iopub.execute_input": "2024-04-03T17:39:16.601388Z",
          "iopub.status.busy": "2024-04-03T17:39:16.600849Z",
          "iopub.status.idle": "2024-04-03T17:40:42.606746Z",
          "shell.execute_reply": "2024-04-03T17:40:42.605528Z"
        },
        "papermill": {
          "duration": 86.063672,
          "end_time": "2024-04-03T17:40:42.609353",
          "exception": false,
          "start_time": "2024-04-03T17:39:16.545681",
          "status": "completed"
        },
        "tags": [],
        "id": "94aa7071",
        "outputId": "153585b5-4437-4549-9c93-e5bcefff5179"
      },
      "outputs": [
        {
          "name": "stdout",
          "output_type": "stream",
          "text": [
            "Epoch 1/10\n",
            "188/188 [==============================] - 16s 62ms/step - loss: 0.0091 - val_loss: 0.0010\n",
            "Epoch 2/10\n",
            "188/188 [==============================] - 10s 53ms/step - loss: 1.3662e-04 - val_loss: 6.7237e-04\n",
            "Epoch 3/10\n",
            "188/188 [==============================] - 10s 54ms/step - loss: 1.1742e-04 - val_loss: 5.8994e-04\n",
            "Epoch 4/10\n",
            "188/188 [==============================] - 11s 57ms/step - loss: 1.0381e-04 - val_loss: 5.1820e-04\n",
            "Epoch 5/10\n",
            "188/188 [==============================] - 11s 56ms/step - loss: 9.8580e-05 - val_loss: 5.6629e-04\n",
            "Epoch 6/10\n",
            "188/188 [==============================] - 10s 54ms/step - loss: 8.4760e-05 - val_loss: 4.6298e-04\n",
            "Restoring model weights from the end of the best epoch.\n",
            "Epoch 00006: early stopping\n",
            "RMSE:354.3184\n"
          ]
        }
      ],
      "source": [
        "model.fit(xtrain, ytrain,\n",
        "          validation_data=(xvalid, yvalid),\n",
        "          epochs = 10,\n",
        "          batch_size = 16,\n",
        "          callbacks=[early_stop])\n",
        "\n",
        "y_pred = model.predict(xvalid)\n",
        "y_pred = scaler.inverse_transform(y_pred)\n",
        "yvalid1 = scaler.inverse_transform(yvalid)\n",
        "print('RMSE:'+ str(rmse(y_pred, yvalid1)))"
      ]
    }
  ],
  "metadata": {
    "kaggle": {
      "accelerator": "none",
      "dataSources": [
        {
          "datasetId": 423609,
          "sourceId": 2179861,
          "sourceType": "datasetVersion"
        }
      ],
      "dockerImageVersionId": 30203,
      "isGpuEnabled": false,
      "isInternetEnabled": true,
      "language": "python",
      "sourceType": "notebook"
    },
    "kernelspec": {
      "display_name": "Python 3",
      "language": "python",
      "name": "python3"
    },
    "language_info": {
      "codemirror_mode": {
        "name": "ipython",
        "version": 3
      },
      "file_extension": ".py",
      "mimetype": "text/x-python",
      "name": "python",
      "nbconvert_exporter": "python",
      "pygments_lexer": "ipython3",
      "version": "3.7.12"
    },
    "papermill": {
      "default_parameters": {},
      "duration": 161.991623,
      "end_time": "2024-04-03T17:40:45.580342",
      "environment_variables": {},
      "exception": null,
      "input_path": "__notebook__.ipynb",
      "output_path": "__notebook__.ipynb",
      "parameters": {},
      "start_time": "2024-04-03T17:38:03.588719",
      "version": "2.3.4"
    },
    "colab": {
      "provenance": []
    }
  },
  "nbformat": 4,
  "nbformat_minor": 5
}